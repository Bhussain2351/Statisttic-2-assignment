{
 "cells": [
  {
   "cell_type": "code",
   "execution_count": 1,
   "id": "74bb474d-627f-49de-acfd-196b0e9ac57f",
   "metadata": {},
   "outputs": [],
   "source": [
    "# 1 Ans. Point estimation involves estimating a population parameter by using a single value, \n",
    "#        while interval estimation involves constructing a range of values that contains \n",
    "#       the population parameter with a certain level of confidence"
   ]
  },
  {
   "cell_type": "code",
   "execution_count": 2,
   "id": "9d9936d8-40f6-44a1-b9b4-1353e9610403",
   "metadata": {},
   "outputs": [],
   "source": [
    "# 2 Ans. Statisticians have shown that the mean of the sampling distribution of x̄ is equal to the population mean, μ, \n",
    "#        and that the standard deviation is given by σ/ √n, where σ is the population standard deviation."
   ]
  },
  {
   "cell_type": "code",
   "execution_count": 5,
   "id": "12877e8d-a7d2-4619-9c19-091c37e9c8cf",
   "metadata": {},
   "outputs": [],
   "source": [
    "# 3 Ans. The purpose of hypothesis testing is to test whether the null hypothesis (there is no difference, no effect) \n",
    "#        can be rejected or approved. If the null hypothesis is rejected, \n",
    "#        then the alternative hypothesis can be accepted. If the null hypothesis is accepted, then the alternative hypothesis \n",
    "#         is rejected."
   ]
  },
  {
   "cell_type": "code",
   "execution_count": 6,
   "id": "32ff3c1b-fd02-49cd-89ef-99561f662533",
   "metadata": {},
   "outputs": [],
   "source": [
    "# 4 Ans. A significance test examines whether the null hypothesis provides a plausible explanation of the data. \n",
    "#        The null hypothesis itself does not involve the data. It is a statement about a parameter \n",
    "#        (a numerical characteristic of the population). These population values might be proportions or means or differences\n",
    "#         between means or proportions or correlations or odds ratios or any other numerical summary of the population. \n",
    "#        The alternative hypothesis is typically the research hypothesis of interest."
   ]
  },
  {
   "cell_type": "code",
   "execution_count": 7,
   "id": "7f5098b7-22f9-4261-91a9-c89a9d60ce1c",
   "metadata": {},
   "outputs": [],
   "source": [
    "# 5 Ans. The hypotheses for a difference in two population means are similar to those for a difference in two population \n",
    "#         proportions. The null hypothesis, H0, is again a statement of “no effect” or “no difference.”\n",
    "\n",
    "# H0: μ1 – μ2 = 0, which is the same as H0: μ1 = μ2\n",
    "# The alternative hypothesis, Ha, can be any one of the following.\n",
    "\n",
    "# Ha: μ1 – μ2 < 0, which is the same as Ha: μ1 < μ2\n",
    "# Ha: μ1 – μ2 > 0, which is the same as Ha: μ1 > μ2\n",
    "# Ha: μ1 – μ2 ≠ 0, which is the same as Ha: μ1 ≠ μ2"
   ]
  },
  {
   "cell_type": "code",
   "execution_count": 8,
   "id": "8dbcf028-05c6-4c4c-8947-18f05300413a",
   "metadata": {},
   "outputs": [],
   "source": [
    "# 6 Ans. Null Hypothesis: H0: There is no difference in the salary of factory workers based on gender. \n",
    "#        Alternative Hypothesis: Ha: Male factory workers have a higher salary than female factory workers."
   ]
  },
  {
   "cell_type": "code",
   "execution_count": 9,
   "id": "028a10ce-d3c7-42f0-a8da-e4111cd8b751",
   "metadata": {},
   "outputs": [],
   "source": [
    "# 7 Ans. Step 1: State the Null Hypothesis. \n",
    "# Step 2: State the Alternative Hypothesis.\n",
    "# Step 3: Set α\n",
    "# Step 4: Collect Data.\n",
    "# Step 5: Calculate a test statistic.\n",
    "# Step 6: Construct Acceptance / Rejection regions.\n",
    "# Step 7: Based on steps 5 and 6, draw a conclusion about H0. "
   ]
  },
  {
   "cell_type": "code",
   "execution_count": 10,
   "id": "160306fe-5b58-4787-88e1-28a7109a516d",
   "metadata": {},
   "outputs": [],
   "source": [
    "# 8 Ans. A p-value is a statistical measurement used to validate a hypothesis against observed data. \n",
    "#        A p-value measures the probability of obtaining the observed results, assuming that the null hypothesis is true. \n",
    "#       The lower the p-value, the greater the statistical significance of the observed difference"
   ]
  },
  {
   "cell_type": "code",
   "execution_count": 11,
   "id": "a79e0f45-dc5c-4e28-834b-b714c30733d7",
   "metadata": {},
   "outputs": [],
   "source": [
    "# 9 Ans. The t-distribution, also known as the Student’s t-distribution, is a probability distribution \n",
    "#         that is used in inferential statistics when the sample size is small and the population standard deviation is unknown. It is a variation of the normal distribution with heavier tails, which makes it more appropriate for estimating the mean of a population when the sample size is small or \n",
    "#         when there is uncertainty about the population standard deviation."
   ]
  },
  {
   "cell_type": "code",
   "execution_count": 12,
   "id": "b76a2d8e-33a3-4bdf-a1a6-487e2b7bdd6f",
   "metadata": {},
   "outputs": [],
   "source": [
    "# 10 Ans. Write a Python program to calculate the two-sample t-test for independent samples, given two\n",
    "# random samples of equal size and a null hypothesis that the population means are equal."
   ]
  },
  {
   "cell_type": "code",
   "execution_count": null,
   "id": "fe54f7f2-4b93-4313-91f8-57e85c396c20",
   "metadata": {},
   "outputs": [],
   "source": []
  }
 ],
 "metadata": {
  "kernelspec": {
   "display_name": "Python 3 (ipykernel)",
   "language": "python",
   "name": "python3"
  },
  "language_info": {
   "codemirror_mode": {
    "name": "ipython",
    "version": 3
   },
   "file_extension": ".py",
   "mimetype": "text/x-python",
   "name": "python",
   "nbconvert_exporter": "python",
   "pygments_lexer": "ipython3",
   "version": "3.10.8"
  }
 },
 "nbformat": 4,
 "nbformat_minor": 5
}
